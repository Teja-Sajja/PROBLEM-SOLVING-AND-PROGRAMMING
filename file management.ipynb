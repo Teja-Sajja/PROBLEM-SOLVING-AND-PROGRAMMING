{
 "cells": [
  {
   "cell_type": "code",
   "execution_count": 1,
   "metadata": {},
   "outputs": [],
   "source": [
    "#function to create a file and write some data"
   ]
  },
  {
   "cell_type": "code",
   "execution_count": 1,
   "metadata": {},
   "outputs": [
    {
     "name": "stdout",
     "output_type": "stream",
     "text": [
      "file created successfully and data is written\n"
     ]
    }
   ],
   "source": [
    "def createFile(filename):\n",
    "    f=open(filename,\"w\")\n",
    "    for i in range(10):\n",
    "        f.write(\"this is %d line\\n\" %i)\n",
    "    print(\"file created successfully and data is written\")    \n",
    "    f.close()\n",
    "    return\n",
    "createFile(\"file1.txt\")"
   ]
  },
  {
   "cell_type": "code",
   "execution_count": 1,
   "metadata": {},
   "outputs": [],
   "source": [
    "#function for reading file data"
   ]
  },
  {
   "cell_type": "code",
   "execution_count": 3,
   "metadata": {},
   "outputs": [
    {
     "name": "stdout",
     "output_type": "stream",
     "text": [
      "this is 0 line\n",
      "this is 1 line\n",
      "this is 2 line\n",
      "this is 3 line\n",
      "this is 4 line\n",
      "this is 5 line\n",
      "this is 6 line\n",
      "this is 7 line\n",
      "this is 8 line\n",
      "this is 9 line\n",
      "\n"
     ]
    }
   ],
   "source": [
    "def readFile(filename):\n",
    "    f=open(filename,\"r\")\n",
    "    if f.mode==\"r\":\n",
    "        x=f.read()\n",
    "        print(x)\n",
    "    f.close()\n",
    "    return\n",
    "readFile(\"file1.txt\")\n"
   ]
  },
  {
   "cell_type": "code",
   "execution_count": 1,
   "metadata": {},
   "outputs": [
    {
     "name": "stdout",
     "output_type": "stream",
     "text": [
      "63117712\n",
      "63117712\n",
      "63117672\n",
      "['b', 'y', 'z', 'a']\n",
      "1\n",
      "['b', 'y', 'z', 'a']\n",
      "2\n",
      "['b', 'y', 'z', 'a']\n",
      "12\n"
     ]
    }
   ],
   "source": [
    "names1=['x','y','z','a']\n",
    "names2=names1\n",
    "names3=names1[:]\n",
    "print(id(names1))\n",
    "print(id(names2))\n",
    "print(id(names3))\n",
    "names2[0]='b'\n",
    "names3[1]='c'\n",
    " \n",
    "sum=0\n",
    "for ls in (names1,names2,names3):\n",
    "    \n",
    "    print(names1)\n",
    "    if ls[0]=='b':\n",
    "        sum+=1\n",
    "        print(sum)\n",
    "    if ls[1]=='c':\n",
    "        sum+=10\n",
    "\n",
    "        \n",
    "print(sum)"
   ]
  },
  {
   "cell_type": "code",
   "execution_count": 1,
   "metadata": {},
   "outputs": [
    {
     "name": "stdout",
     "output_type": "stream",
     "text": [
      "4\n"
     ]
    }
   ],
   "source": [
    "x=1\n",
    "y=\"2\"\n",
    "z=3\n",
    "sum=0\n",
    "for i in (x,y,z):\n",
    "    if isinstance(i,int):\n",
    "        sum+=i\n",
    "        \n",
    "print(sum)\n",
    "    "
   ]
  },
  {
   "cell_type": "code",
   "execution_count": 1,
   "metadata": {},
   "outputs": [
    {
     "name": "stdout",
     "output_type": "stream",
     "text": [
      " Volume in drive C has no label.\n",
      " Volume Serial Number is C852-3106\n",
      "\n",
      " Directory of C:\\Users\\SYS-53\n",
      "\n",
      "26-06-2019  22:49    <DIR>          .\n",
      "26-06-2019  22:49    <DIR>          ..\n",
      "21-06-2019  22:26             2,224 .~.ipynb\n",
      "21-06-2019  03:10    <DIR>          .anaconda\n",
      "24-09-2018  14:15    <DIR>          .android\n",
      "24-09-2018  14:00    <DIR>          .AndroidStudio3.1\n",
      "19-06-2019  03:40               193 .bash_history\n",
      "21-06-2019  22:18    <DIR>          .conda\n",
      "21-06-2019  21:32                43 .condarc\n",
      "24-09-2018  14:41    <DIR>          .gradle\n",
      "21-06-2019  22:26             2,224 .ipynb\n",
      "26-06-2019  22:49    <DIR>          .ipynb_checkpoints\n",
      "21-06-2019  04:11    <DIR>          .ipython\n",
      "21-06-2019  21:33    <DIR>          .jupyter\n",
      "14-03-2018  11:51    <DIR>          .nbi\n",
      "14-08-2018  10:26    <DIR>          .VirtualBox\n",
      "15-11-2018  09:42    <DIR>          .vscode\n",
      "15-06-2019  08:46    <DIR>          Anaconda3\n",
      "24-09-2018  14:15    <DIR>          AndroidStudioProjects\n",
      "15-11-2018  09:29    <DIR>          Contacts\n",
      "22-06-2019  03:39             8,460 controlflowst.ipynb\n",
      "24-06-2019  21:37             5,801 Data Structures.ipynb\n",
      "25-06-2019  03:13    <DIR>          Desktop\n",
      "20-06-2019  03:55    <DIR>          Documents\n",
      "25-06-2019  03:13    <DIR>          Downloads\n",
      "25-06-2019  21:34             8,152 DS-Binary search.ipynb\n",
      "15-11-2018  09:29    <DIR>          Favorites\n",
      "26-06-2019  22:49             3,459 file management.ipynb\n",
      "26-06-2019  21:59               160 file1.txt\n",
      "24-06-2019  00:46             8,959 functions (cntd..).ipynb\n",
      "22-06-2019  04:00             2,825 Functons.ipynb\n",
      "01-08-2018  11:11                 9 JJJJJJJJJJJJJJJJJJJJJJJJJJJJJJJJJ.aux\n",
      "01-08-2018  11:11            24,409 JJJJJJJJJJJJJJJJJJJJJJJJJJJJJJJJJ.log\n",
      "01-08-2018  11:11            25,761 JJJJJJJJJJJJJJJJJJJJJJJJJJJJJJJJJ.pdf\n",
      "01-08-2018  11:11             1,080 JJJJJJJJJJJJJJJJJJJJJJJJJJJJJJJJJ.synctex.gz\n",
      "01-08-2018  11:10               381 JJJJJJJJJJJJJJJJJJJJJJJJJJJJJJJJJ.tex\n",
      "15-11-2018  09:29    <DIR>          Links\n",
      "15-11-2018  09:29    <DIR>          Music\n",
      "26-06-2019  03:51             2,083 Packages and modules.ipynb\n",
      "15-11-2018  09:29    <DIR>          Pictures\n",
      "15-11-2018  09:29    <DIR>          Saved Games\n",
      "15-11-2018  09:29    <DIR>          Searches\n",
      "26-06-2019  03:37             7,265 String functions.ipynb\n",
      "26-06-2019  22:49            15,997 tuples and Python Dictionary.ipynb\n",
      "15-11-2018  09:29    <DIR>          Videos\n",
      "              19 File(s)        119,485 bytes\n",
      "              26 Dir(s)  60,709,584,896 bytes free\n"
     ]
    }
   ],
   "source": [
    "ls"
   ]
  },
  {
   "cell_type": "code",
   "execution_count": 2,
   "metadata": {},
   "outputs": [],
   "source": [
    "def appendData(filename):\n",
    "    f=open(filename,\"a\")\n",
    "    f.write(\"New line 1\\n\")\n",
    "    f.write(\"New line 2\\n\")\n",
    "    f.close()\n",
    "    return\n",
    "\n",
    "appendData(\"file1.txt\")"
   ]
  },
  {
   "cell_type": "code",
   "execution_count": 3,
   "metadata": {},
   "outputs": [
    {
     "name": "stdout",
     "output_type": "stream",
     "text": [
      "0\n"
     ]
    }
   ],
   "source": [
    "def dataAnalysisWordCount(filename,word):\n",
    "    f=open(filename,\"r\")\n",
    "    if(f.mode==\"r\"):\n",
    "        x=f.read()\n",
    "        lst=x.split()\n",
    "    cnt=lst.count(word)\n",
    "    return cnt\n",
    "\n",
    "print(dataAnalysisWordCount(\"file1.txt\",\"rest\"))"
   ]
  },
  {
   "cell_type": "code",
   "execution_count": 4,
   "metadata": {},
   "outputs": [],
   "source": [
    "#Functions to count characters in the file"
   ]
  },
  {
   "cell_type": "code",
   "execution_count": 2,
   "metadata": {},
   "outputs": [
    {
     "name": "stdout",
     "output_type": "stream",
     "text": [
      "194\n"
     ]
    }
   ],
   "source": [
    "def countCharacter(filename):\n",
    "    f=open(filename,\"r\")\n",
    "    if f.mode==\"r\":\n",
    "        x=f.read()\n",
    "        lst=list(x)\n",
    "    return len(lst)\n",
    "\n",
    "print(countCharacter(\"file1.txt\"))"
   ]
  },
  {
   "cell_type": "code",
   "execution_count": 3,
   "metadata": {},
   "outputs": [],
   "source": [
    "#Function to count Upper case character from the given input file"
   ]
  },
  {
   "cell_type": "code",
   "execution_count": 1,
   "metadata": {},
   "outputs": [
    {
     "data": {
      "text/plain": [
       "4"
      ]
     },
     "execution_count": 1,
     "metadata": {},
     "output_type": "execute_result"
    }
   ],
   "source": [
    "def upperCase(filename):\n",
    "    cntUpper=0\n",
    "    f=open(filename,\"r\")\n",
    "    if f.mode==\"r\":\n",
    "        x=f.read()\n",
    "        lst=list(x)\n",
    "    for i in lst:\n",
    "        if i.isupper():\n",
    "            cntUpper+=1\n",
    "    return cntUpper\n",
    "upperCase(\"file1.txt\")"
   ]
  },
  {
   "cell_type": "code",
   "execution_count": 1,
   "metadata": {},
   "outputs": [],
   "source": [
    "# function to count lines in the given file"
   ]
  },
  {
   "cell_type": "code",
   "execution_count": 6,
   "metadata": {},
   "outputs": [
    {
     "data": {
      "text/plain": [
       "12"
      ]
     },
     "execution_count": 6,
     "metadata": {},
     "output_type": "execute_result"
    }
   ],
   "source": [
    "def lineCount(filename):\n",
    "    f=open(filename,\"r\")\n",
    "    if(f.mode==\"r\"):\n",
    "        x=f.read()\n",
    "        lst=x.split(\"\\n\")\n",
    "    return len(lst)\n",
    "lineCount(\"file1.txt\")"
   ]
  },
  {
   "cell_type": "code",
   "execution_count": 1,
   "metadata": {},
   "outputs": [],
   "source": [
    "#Regular Expressions for Indian Mobile no.\n",
    "#Validation for EmailID username@Domainname.extension\n",
    "\n"
   ]
  },
  {
   "cell_type": "code",
   "execution_count": null,
   "metadata": {},
   "outputs": [],
   "source": []
  }
 ],
 "metadata": {
  "kernelspec": {
   "display_name": "Python 3",
   "language": "python",
   "name": "python3"
  },
  "language_info": {
   "codemirror_mode": {
    "name": "ipython",
    "version": 3
   },
   "file_extension": ".py",
   "mimetype": "text/x-python",
   "name": "python",
   "nbconvert_exporter": "python",
   "pygments_lexer": "ipython3",
   "version": "3.7.3"
  }
 },
 "nbformat": 4,
 "nbformat_minor": 2
}
