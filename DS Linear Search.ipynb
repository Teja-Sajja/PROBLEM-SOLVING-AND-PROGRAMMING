{
 "cells": [
  {
   "cell_type": "markdown",
   "metadata": {},
   "source": [
    "# Data Structures\n",
    "## Linear Search"
   ]
  },
  {
   "cell_type": "markdown",
   "metadata": {},
   "source": [
    "## Question 1\n",
    "### Description : Linear Search Unique List"
   ]
  },
  {
   "cell_type": "code",
   "execution_count": 3,
   "metadata": {},
   "outputs": [
    {
     "name": "stdout",
     "output_type": "stream",
     "text": [
      "not found\n"
     ]
    }
   ],
   "source": [
    "def linears(a,tar):\n",
    "    flag=0;\n",
    "    for i in range(len(a)):\n",
    "        if(a[i]==tar):\n",
    "            flag=1;\n",
    "            break;\n",
    "    if(flag!=0):\n",
    "        print(\"found\");\n",
    "    else:\n",
    "        print(\"not found\");\n",
    "            \n",
    "a=[1,2,3,4,5,6,7,8,9];\n",
    "linears(a,61);"
   ]
  },
  {
   "cell_type": "markdown",
   "metadata": {},
   "source": [
    "## Question 2\n",
    "### Description : Linear Search Duplicate List. "
   ]
  },
  {
   "cell_type": "code",
   "execution_count": 8,
   "metadata": {},
   "outputs": [
    {
     "name": "stdout",
     "output_type": "stream",
     "text": [
      "3\n"
     ]
    }
   ],
   "source": [
    "def linears(a,tar):\n",
    "    flag=0;\n",
    "    for i in range(len(a)):\n",
    "        if(a[i]==tar):\n",
    "            flag=flag+1;\n",
    "    print(flag);\n",
    "        \n",
    "a=[1,2,3,4,5,2,5,2,8,9];\n",
    "linears(a,2);"
   ]
  },
  {
   "cell_type": "markdown",
   "metadata": {},
   "source": [
    "## Question 3\n",
    "### Description : [1,5,9,6,5,15,12,5] , tar=5 ------147"
   ]
  },
  {
   "cell_type": "code",
   "execution_count": 9,
   "metadata": {},
   "outputs": [
    {
     "name": "stdout",
     "output_type": "stream",
     "text": [
      "1  4  7  "
     ]
    }
   ],
   "source": [
    "def linear(a,tar):\n",
    "    for i in range(len(a)):\n",
    "        if a[i]==tar:\n",
    "            print(i,end=\"  \");\n",
    "            \n",
    "a=[1,5,9,6,5,15,12,5]\n",
    "linear(a,5)"
   ]
  },
  {
   "cell_type": "markdown",
   "metadata": {},
   "source": [
    "## Question 4\n",
    "### Description : [1,5,9,6,5,15,12,5], tar = 5 - !! !!!! !!!!!!!"
   ]
  },
  {
   "cell_type": "code",
   "execution_count": 15,
   "metadata": {},
   "outputs": [
    {
     "name": "stdout",
     "output_type": "stream",
     "text": [
      "!    ! ! ! !    ! ! ! ! ! ! !    "
     ]
    }
   ],
   "source": [
    "def linear(a,tar):\n",
    "    for i in range(len(a)):\n",
    "        if a[i]==tar:\n",
    "            j=0;\n",
    "            while(j!=i):\n",
    "                print(\"!\",end=\" \");\n",
    "                j=j+1;\n",
    "            print(end=\"   \")\n",
    "            \n",
    "a=[1,5,9,6,5,15,12,5]\n",
    "linear(a,5)"
   ]
  },
  {
   "cell_type": "markdown",
   "metadata": {},
   "source": [
    "## Question 5\n",
    "### Description : [15,12,2,9,18,36,45] ---- Sum of perfect multiples of 3 & 5."
   ]
  },
  {
   "cell_type": "code",
   "execution_count": 15,
   "metadata": {},
   "outputs": [
    {
     "name": "stdout",
     "output_type": "stream",
     "text": [
      "60\n"
     ]
    }
   ],
   "source": [
    "def linear(a):\n",
    "    sum=0;\n",
    "    for i in range(len(a)):\n",
    "        if((a[i]%3==0) and (a[i]%5==0)):\n",
    "            sum=sum+a[i];\n",
    "            i=i+1;\n",
    "        \n",
    "    print(sum);\n",
    "    return sum;\n",
    "\n",
    "a=[15,12,2,9,18,36,45]\n",
    "linear(a);"
   ]
  },
  {
   "cell_type": "markdown",
   "metadata": {},
   "source": [
    "##"
   ]
  },
  {
   "cell_type": "code",
   "execution_count": 17,
   "metadata": {},
   "outputs": [
    {
     "name": "stdout",
     "output_type": "stream",
     "text": [
      "1  3  8  15  5  "
     ]
    }
   ],
   "source": [
    "def linearformattedop(a):\n",
    "    for i in range(len(a)):\n",
    "        if((i==0) or (i==(len(a)-1))):\n",
    "            print(a[i],end=\"  \");\n",
    "        else:\n",
    "            print(a[i-1]*a[i+1],end=\"  \");\n",
    "            \n",
    "a=[1,2,3,4,5]\n",
    "linearformattedop(a);"
   ]
  },
  {
   "cell_type": "markdown",
   "metadata": {},
   "source": [
    "##\n",
    "### Description : [1,6,9,4,16,19,22]--1 9 19 22"
   ]
  },
  {
   "cell_type": "code",
   "execution_count": 32,
   "metadata": {},
   "outputs": [
    {
     "name": "stdout",
     "output_type": "stream",
     "text": [
      "1  9  19  22  "
     ]
    }
   ],
   "source": [
    "def linear(a):\n",
    "    for i in range(len(a)):\n",
    "        if i==0 or (i==len(a)-1):\n",
    "            print(a[i],end=\"  \");\n",
    "        elif (a[i-1]%2==0) and (a[i+1]%2==0):\n",
    "            print(a[i],end=\"  \");\n",
    " \n",
    "\n",
    "a=[1,6,9,4,16,19,22];\n",
    "linear(a);"
   ]
  },
  {
   "cell_type": "markdown",
   "metadata": {},
   "source": [
    "## Question 8\n",
    "### Description : 14569 -- [1,4,5,6,9]"
   ]
  },
  {
   "cell_type": "code",
   "execution_count": 29,
   "metadata": {},
   "outputs": [
    {
     "name": "stdout",
     "output_type": "stream",
     "text": [
      "enter no: 14569\n",
      "[1, 4, 5, 6, 9]\n"
     ]
    }
   ],
   "source": [
    "def noToListConversion(n):\n",
    "    list=[]\n",
    "    while(n!=0):\n",
    "        r=n%10\n",
    "        list.append(r)\n",
    "        n=n//10\n",
    "    list.reverse()\n",
    "    print(list)\n",
    "    \n",
    "n=int(input(\"enter no: \"))\n",
    "noToListConversion(n)"
   ]
  },
  {
   "cell_type": "markdown",
   "metadata": {},
   "source": [
    "## Question 9\n",
    "### Description : [1,4,5,6,9] --14569"
   ]
  },
  {
   "cell_type": "code",
   "execution_count": 1,
   "metadata": {},
   "outputs": [
    {
     "name": "stdout",
     "output_type": "stream",
     "text": [
      "145\n"
     ]
    },
    {
     "data": {
      "text/plain": [
       "145"
      ]
     },
     "execution_count": 1,
     "metadata": {},
     "output_type": "execute_result"
    }
   ],
   "source": [
    "def listToNoConversion(a):\n",
    "    sum=0;\n",
    "    i=0;\n",
    "    while(a[i]<=len(a)):\n",
    "        r=a[i];\n",
    "        sum=(sum*10) + r;\n",
    "        i=i+1;\n",
    "    print(sum);\n",
    "    return sum;\n",
    "\n",
    "a=[1,4,5,6,9];\n",
    "listToNoConversion(a)"
   ]
  }
 ],
 "metadata": {
  "kernelspec": {
   "display_name": "Python 3",
   "language": "python",
   "name": "python3"
  },
  "language_info": {
   "codemirror_mode": {
    "name": "ipython",
    "version": 3
   },
   "file_extension": ".py",
   "mimetype": "text/x-python",
   "name": "python",
   "nbconvert_exporter": "python",
   "pygments_lexer": "ipython3",
   "version": "3.7.3"
  }
 },
 "nbformat": 4,
 "nbformat_minor": 2
}
