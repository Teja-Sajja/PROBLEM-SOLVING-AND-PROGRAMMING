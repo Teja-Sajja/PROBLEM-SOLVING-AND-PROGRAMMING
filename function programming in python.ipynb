{
 "cells": [
  {
   "cell_type": "code",
   "execution_count": 2,
   "metadata": {},
   "outputs": [],
   "source": [
    "#syntax:\n",
    "  #   def function name (parameters):\n",
    "   #         task"
   ]
  },
  {
   "cell_type": "code",
   "execution_count": 3,
   "metadata": {},
   "outputs": [],
   "source": [
    "##example print natural numbers"
   ]
  },
  {
   "cell_type": "code",
   "execution_count": 7,
   "metadata": {},
   "outputs": [
    {
     "name": "stdout",
     "output_type": "stream",
     "text": [
      "enter a no.2\n",
      "1 \n",
      "2 \n",
      "None\n"
     ]
    }
   ],
   "source": [
    "def printnaturalnumbers( n):\n",
    "    cnt = 1;\n",
    "    while(cnt<=n):\n",
    "        print(cnt,end=\" \")\n",
    "        cnt =cnt + 1;\n",
    "        print()\n",
    "x=int(input('enter a no.'))\n",
    "print(printnaturalnumbers( x))"
   ]
  },
  {
   "cell_type": "code",
   "execution_count": 6,
   "metadata": {},
   "outputs": [
    {
     "name": "stdout",
     "output_type": "stream",
     "text": [
      "enter a no.3\n",
      "6\n"
     ]
    }
   ],
   "source": [
    "def findfact(n):\n",
    "    fact=1\n",
    "    while(n!=0):\n",
    "        fact=fact*n;\n",
    "        n=n-1;\n",
    "    return fact;\n",
    "x=int(input(\"enter a no.\"))\n",
    "print(findfact(x))\n"
   ]
  },
  {
   "cell_type": "code",
   "execution_count": null,
   "metadata": {},
   "outputs": [],
   "source": []
  },
  {
   "cell_type": "code",
   "execution_count": null,
   "metadata": {},
   "outputs": [],
   "source": []
  }
 ],
 "metadata": {
  "kernelspec": {
   "display_name": "Python 3",
   "language": "python",
   "name": "python3"
  },
  "language_info": {
   "codemirror_mode": {
    "name": "ipython",
    "version": 3
   },
   "file_extension": ".py",
   "mimetype": "text/x-python",
   "name": "python",
   "nbconvert_exporter": "python",
   "pygments_lexer": "ipython3",
   "version": "3.7.3"
  }
 },
 "nbformat": 4,
 "nbformat_minor": 2
}
